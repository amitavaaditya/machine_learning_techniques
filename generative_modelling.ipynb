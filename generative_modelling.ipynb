{
 "cells": [
  {
   "cell_type": "code",
   "execution_count": 1,
   "metadata": {},
   "outputs": [],
   "source": [
    "# All imports required\n",
    "import os\n",
    "import urllib3\n",
    "import numpy as np\n",
    "import pandas as pd\n",
    "import itertools\n",
    "import matplotlib.pyplot as plt\n",
    "from scipy.stats import norm, multivariate_normal\n",
    "from sklearn.model_selection import train_test_split"
   ]
  },
  {
   "cell_type": "code",
   "execution_count": 2,
   "metadata": {},
   "outputs": [],
   "source": [
    "# Check if dataset is already present in project directory, else download from UCI repository\n",
    "dataset = 'wine.data'\n",
    "url = 'https://archive.ics.uci.edu/ml/machine-learning-databases/wine/wine.data'\n",
    "if not os.path.exists(dataset):\n",
    "    http = urllib3.PoolManager()\n",
    "    r = http.request('GET', url)\n",
    "    with open(dataset, 'wb') as f:\n",
    "        f.write(r.data)\n",
    "        r.status"
   ]
  },
  {
   "cell_type": "code",
   "execution_count": 3,
   "metadata": {},
   "outputs": [],
   "source": [
    "# Define dataset properties\n",
    "target_col_index = 0\n",
    "cols_to_ignore = None\n",
    "column_names = ['Winery', 'Alcohol', 'Malic acid', 'Ash', 'Alcalinity of ash', 'Magnesium', 'Total phenols',\n",
    "                 'Flavanoids', 'Nonflavanoid phenols', 'Proanthocyanins', 'Color intensity', 'Hue',\n",
    "                 'OD280/OD315 of diluted wines', 'Proline']"
   ]
  },
  {
   "cell_type": "code",
   "execution_count": 4,
   "metadata": {},
   "outputs": [
    {
     "data": {
      "text/html": [
       "<div>\n",
       "<style scoped>\n",
       "    .dataframe tbody tr th:only-of-type {\n",
       "        vertical-align: middle;\n",
       "    }\n",
       "\n",
       "    .dataframe tbody tr th {\n",
       "        vertical-align: top;\n",
       "    }\n",
       "\n",
       "    .dataframe thead th {\n",
       "        text-align: right;\n",
       "    }\n",
       "</style>\n",
       "<table border=\"1\" class=\"dataframe\">\n",
       "  <thead>\n",
       "    <tr style=\"text-align: right;\">\n",
       "      <th></th>\n",
       "      <th>Alcalinity of ash</th>\n",
       "      <th>Alcohol</th>\n",
       "      <th>Ash</th>\n",
       "      <th>Color intensity</th>\n",
       "      <th>Flavanoids</th>\n",
       "      <th>Hue</th>\n",
       "      <th>Magnesium</th>\n",
       "      <th>Malic acid</th>\n",
       "      <th>Nonflavanoid phenols</th>\n",
       "      <th>OD280/OD315 of diluted wines</th>\n",
       "      <th>Proanthocyanins</th>\n",
       "      <th>Proline</th>\n",
       "      <th>Total phenols</th>\n",
       "      <th>Winery</th>\n",
       "    </tr>\n",
       "  </thead>\n",
       "  <tbody>\n",
       "    <tr>\n",
       "      <th>0</th>\n",
       "      <td>15.6</td>\n",
       "      <td>14.23</td>\n",
       "      <td>2.43</td>\n",
       "      <td>5.64</td>\n",
       "      <td>3.06</td>\n",
       "      <td>1.04</td>\n",
       "      <td>127</td>\n",
       "      <td>1.71</td>\n",
       "      <td>0.28</td>\n",
       "      <td>3.92</td>\n",
       "      <td>2.29</td>\n",
       "      <td>1065</td>\n",
       "      <td>2.80</td>\n",
       "      <td>1</td>\n",
       "    </tr>\n",
       "    <tr>\n",
       "      <th>1</th>\n",
       "      <td>11.2</td>\n",
       "      <td>13.20</td>\n",
       "      <td>2.14</td>\n",
       "      <td>4.38</td>\n",
       "      <td>2.76</td>\n",
       "      <td>1.05</td>\n",
       "      <td>100</td>\n",
       "      <td>1.78</td>\n",
       "      <td>0.26</td>\n",
       "      <td>3.40</td>\n",
       "      <td>1.28</td>\n",
       "      <td>1050</td>\n",
       "      <td>2.65</td>\n",
       "      <td>1</td>\n",
       "    </tr>\n",
       "    <tr>\n",
       "      <th>2</th>\n",
       "      <td>18.6</td>\n",
       "      <td>13.16</td>\n",
       "      <td>2.67</td>\n",
       "      <td>5.68</td>\n",
       "      <td>3.24</td>\n",
       "      <td>1.03</td>\n",
       "      <td>101</td>\n",
       "      <td>2.36</td>\n",
       "      <td>0.30</td>\n",
       "      <td>3.17</td>\n",
       "      <td>2.81</td>\n",
       "      <td>1185</td>\n",
       "      <td>2.80</td>\n",
       "      <td>1</td>\n",
       "    </tr>\n",
       "    <tr>\n",
       "      <th>3</th>\n",
       "      <td>16.8</td>\n",
       "      <td>14.37</td>\n",
       "      <td>2.50</td>\n",
       "      <td>7.80</td>\n",
       "      <td>3.49</td>\n",
       "      <td>0.86</td>\n",
       "      <td>113</td>\n",
       "      <td>1.95</td>\n",
       "      <td>0.24</td>\n",
       "      <td>3.45</td>\n",
       "      <td>2.18</td>\n",
       "      <td>1480</td>\n",
       "      <td>3.85</td>\n",
       "      <td>1</td>\n",
       "    </tr>\n",
       "    <tr>\n",
       "      <th>4</th>\n",
       "      <td>21.0</td>\n",
       "      <td>13.24</td>\n",
       "      <td>2.87</td>\n",
       "      <td>4.32</td>\n",
       "      <td>2.69</td>\n",
       "      <td>1.04</td>\n",
       "      <td>118</td>\n",
       "      <td>2.59</td>\n",
       "      <td>0.39</td>\n",
       "      <td>2.93</td>\n",
       "      <td>1.82</td>\n",
       "      <td>735</td>\n",
       "      <td>2.80</td>\n",
       "      <td>1</td>\n",
       "    </tr>\n",
       "  </tbody>\n",
       "</table>\n",
       "</div>"
      ],
      "text/plain": [
       "   Alcalinity of ash  Alcohol   Ash  Color intensity  Flavanoids   Hue  \\\n",
       "0               15.6    14.23  2.43             5.64        3.06  1.04   \n",
       "1               11.2    13.20  2.14             4.38        2.76  1.05   \n",
       "2               18.6    13.16  2.67             5.68        3.24  1.03   \n",
       "3               16.8    14.37  2.50             7.80        3.49  0.86   \n",
       "4               21.0    13.24  2.87             4.32        2.69  1.04   \n",
       "\n",
       "   Magnesium  Malic acid  Nonflavanoid phenols  OD280/OD315 of diluted wines  \\\n",
       "0        127        1.71                  0.28                          3.92   \n",
       "1        100        1.78                  0.26                          3.40   \n",
       "2        101        2.36                  0.30                          3.17   \n",
       "3        113        1.95                  0.24                          3.45   \n",
       "4        118        2.59                  0.39                          2.93   \n",
       "\n",
       "   Proanthocyanins  Proline  Total phenols  Winery  \n",
       "0             2.29     1065           2.80       1  \n",
       "1             1.28     1050           2.65       1  \n",
       "2             2.81     1185           2.80       1  \n",
       "3             2.18     1480           3.85       1  \n",
       "4             1.82      735           2.80       1  "
      ]
     },
     "execution_count": 4,
     "metadata": {},
     "output_type": "execute_result"
    }
   ],
   "source": [
    "# Load dataset\n",
    "df = pd.read_csv(dataset, header=None, names=column_names, na_values=['?'])\n",
    "target_col_name = df.columns[target_col_index]\n",
    "if cols_to_ignore: df.drop(cols_to_ignore, axis=1, inplace=True)\n",
    "df.dropna(inplace=True)\n",
    "df = df.reindex(sorted(df.columns), axis=1)\n",
    "df.head()"
   ]
  },
  {
   "cell_type": "code",
   "execution_count": 5,
   "metadata": {},
   "outputs": [
    {
     "name": "stdout",
     "output_type": "stream",
     "text": [
      "Dimensions of df_train: (133, 14)\n",
      "Dimensions of df_test: (45, 14)\n"
     ]
    }
   ],
   "source": [
    "# Split data and target into training sets and test sets\n",
    "df_train, df_test = train_test_split(df)\n",
    "df_train.reset_index(inplace=True, drop=True)\n",
    "df_test.reset_index(inplace=True, drop=True)\n",
    "print('Dimensions of df_train: {}'.format(df_train.shape))\n",
    "print('Dimensions of df_test: {}'.format(df_test.shape))"
   ]
  },
  {
   "cell_type": "code",
   "execution_count": 6,
   "metadata": {},
   "outputs": [
    {
     "data": {
      "text/plain": [
       "array([1, 2, 3])"
      ]
     },
     "execution_count": 6,
     "metadata": {},
     "output_type": "execute_result"
    }
   ],
   "source": [
    "# List out all unique classes in training set target\n",
    "classes = df_train[target_col_name].unique()\n",
    "classes.sort()\n",
    "classes"
   ]
  },
  {
   "cell_type": "code",
   "execution_count": 7,
   "metadata": {},
   "outputs": [],
   "source": [
    "# Fit a Gaussian generative model to the training data\n",
    "mu = df_train.groupby(target_col_name).mean()\n",
    "sigma = df_train.groupby(target_col_name).cov()\n",
    "pi = df_train[target_col_name].value_counts(normalize=True).sort_index()"
   ]
  },
  {
   "cell_type": "code",
   "execution_count": 8,
   "metadata": {},
   "outputs": [],
   "source": [
    "# Make predictions on test set\n",
    "prediction_scores = pd.DataFrame()\n",
    "for class_name in classes:\n",
    "    prediction_scores[class_name] = np.log(pi.loc[class_name]) + multivariate_normal.logpdf(\n",
    "        df_test.drop(target_col_name, axis=1), \n",
    "        mean=mu.loc[class_name], \n",
    "        cov=sigma.loc[class_name])\n",
    "predictions = prediction_scores.idxmax(axis=1)"
   ]
  },
  {
   "cell_type": "code",
   "execution_count": 9,
   "metadata": {},
   "outputs": [
    {
     "name": "stdout",
     "output_type": "stream",
     "text": [
      "Total predictions made : 45\n",
      "Correct predictions : 45\n",
      "Incorrect predictions : 0\n",
      "Prediction accuracy = 100.00%\n"
     ]
    }
   ],
   "source": [
    "prediction_result = predictions == df_test[target_col_name]\n",
    "total_predictions = prediction_result.size\n",
    "correct_predictions = prediction_result.sum()\n",
    "print('Total predictions made : {}'.format(total_predictions))\n",
    "print('Correct predictions : {}'.format(correct_predictions))\n",
    "print('Incorrect predictions : {}'.format(total_predictions - correct_predictions))\n",
    "print('Prediction accuracy = {:0.2%}'.format(correct_predictions / total_predictions))"
   ]
  },
  {
   "cell_type": "code",
   "execution_count": null,
   "metadata": {},
   "outputs": [],
   "source": []
  }
 ],
 "metadata": {
  "kernelspec": {
   "display_name": "Python 3",
   "language": "python",
   "name": "python3"
  },
  "language_info": {
   "codemirror_mode": {
    "name": "ipython",
    "version": 3
   },
   "file_extension": ".py",
   "mimetype": "text/x-python",
   "name": "python",
   "nbconvert_exporter": "python",
   "pygments_lexer": "ipython3",
   "version": "3.6.5"
  }
 },
 "nbformat": 4,
 "nbformat_minor": 2
}
